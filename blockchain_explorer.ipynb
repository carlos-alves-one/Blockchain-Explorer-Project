{
  "nbformat": 4,
  "nbformat_minor": 0,
  "metadata": {
    "colab": {
      "provenance": [],
      "toc_visible": true,
      "include_colab_link": true
    },
    "kernelspec": {
      "name": "python3",
      "display_name": "Python 3"
    },
    "language_info": {
      "name": "python"
    }
  },
  "cells": [
    {
      "cell_type": "markdown",
      "metadata": {
        "id": "view-in-github",
        "colab_type": "text"
      },
      "source": [
        "<a href=\"https://colab.research.google.com/github/carlos-alves-one/-BlockChain-Explorer-Project/blob/main/blockchain_explorer.ipynb\" target=\"_parent\"><img src=\"https://colab.research.google.com/assets/colab-badge.svg\" alt=\"Open In Colab\"/></a>"
      ]
    },
    {
      "cell_type": "markdown",
      "source": [
        "### Goldsmiths University of London\n",
        "### MSc. Data Science and Artificial Intelligence\n",
        "### Module: Blockchain Programming\n",
        "### Author: Carlos Manuel De Oliveira Alves\n",
        "### Student: cdeol003\n",
        "### BlockChain Explorer Project"
      ],
      "metadata": {
        "id": "HtkLpjegulLs"
      }
    },
    {
      "cell_type": "markdown",
      "source": [
        "# Goal No.1\n",
        "\n",
        "Calculate the transaction ID"
      ],
      "metadata": {
        "id": "f2lhzshjzLzs"
      }
    },
    {
      "cell_type": "markdown",
      "source": [
        "## Step 1: Import Libraries\n"
      ],
      "metadata": {
        "id": "907A926vxtU6"
      }
    },
    {
      "cell_type": "code",
      "source": [
        "# Import the hashlib library for secure hash and message digest algorithms\n",
        "import hashlib\n",
        "\n",
        "# Import the hashes module from cryptography for cryptographic hashing\n",
        "from cryptography.hazmat.primitives import hashes\n",
        "\n",
        "# Import default_backend for cryptographic algorithm support\n",
        "from cryptography.hazmat.backends import default_backend\n",
        "\n",
        "# Import serialization for converting keys and certificates between Python objects and bytes\n",
        "from cryptography.hazmat.primitives import serialization\n",
        "\n",
        "# Import ec (Elliptic Curve) module for elliptic curve cryptography operations\n",
        "from cryptography.hazmat.primitives.asymmetric import ec\n",
        "\n",
        "# Import InvalidSignature exception for handling signature verification failures\n",
        "from cryptography.exceptions import InvalidSignature\n"
      ],
      "metadata": {
        "id": "f6qEFwVVwlkm"
      },
      "execution_count": 83,
      "outputs": []
    },
    {
      "cell_type": "markdown",
      "source": [
        "## Step 2: Define Transaction Details\n",
        "Outline how to define the transaction details, such as sender and recipient addresses, the amount, the fee, the nonce, and the digital signature. Mention that these details form the basis of the transaction and are crucial for its unique identification."
      ],
      "metadata": {
        "id": "I-luIdxzyIT0"
      }
    },
    {
      "cell_type": "code",
      "source": [
        "sender_addr      = \"b66eeaa8059bd4d50c760beb93c2eb086ad91853\"\n",
        "recipient_addr   = \"b8e6687270bade89f03178d0195dbde30be1287c\"\n",
        "sender_publickey = \"3056301006072a8648ce3d020106052b8104000a03420004abb6abed08a9304fedaa394bd578fde6e28a3721ef25da5063fd3ddf\"\n",
        "amount = 5\n",
        "fee    = 1\n",
        "nonce  = 1\n",
        "digital_signature = \"39d22d5f4c0b28e15428c1a6c55818ade226a9f15968d3b9ef3d15253770f35e\"\n"
      ],
      "metadata": {
        "id": "eDzW9GdhyJfo"
      },
      "execution_count": 84,
      "outputs": []
    },
    {
      "cell_type": "markdown",
      "source": [
        "## Step 3: Define functions to Hash and calculate the Transaction ID\n"
      ],
      "metadata": {
        "id": "LYAVL-Um-Q6N"
      }
    },
    {
      "cell_type": "code",
      "source": [
        "# SHA1 hash calculation\n",
        "def calculate_sha1_hash(public_key):\n",
        "    digest = hashes.Hash(hashes.SHA1())\n",
        "    digest.update(public_key)\n",
        "    return digest.finalize()\n",
        "\n",
        "# Signature hash calculation\n",
        "def calculate_signature_hash(recipient_hash, amount, fee, nonce):\n",
        "    digest = hashes.Hash(hashes.SHA256())\n",
        "    digest.update(recipient_hash)\n",
        "    digest.update(amount.to_bytes(8, byteorder='little', signed=False))\n",
        "    digest.update(fee.to_bytes(8, byteorder='little', signed=False))\n",
        "    digest.update(nonce.to_bytes(8, byteorder='little', signed=False))\n",
        "    return digest.finalize()\n",
        "\n",
        "# Transaction  ID calculation\n",
        "def calculate_txid(sender_hash, recipient_hash, sender_public_key, amount, fee, nonce, signature):\n",
        "    digest = hashes.Hash(hashes.SHA256())\n",
        "    digest.update(sender_hash)\n",
        "    digest.update(recipient_hash)\n",
        "    digest.update(sender_public_key)\n",
        "    digest.update(amount.to_bytes(8, byteorder='little', signed=False))\n",
        "    digest.update(fee.to_bytes(8, byteorder='little', signed=False))\n",
        "    digest.update(nonce.to_bytes(8, byteorder='little', signed=False))\n",
        "    digest.update(signature)\n",
        "    return digest.finalize()\n"
      ],
      "metadata": {
        "id": "DZRZbRcZkzVL"
      },
      "execution_count": 85,
      "outputs": []
    },
    {
      "cell_type": "markdown",
      "source": [
        "## Step 4: Calculates the Hashes and the Transaction ID\n"
      ],
      "metadata": {
        "id": "c-tyzTY77jkK"
      }
    },
    {
      "cell_type": "code",
      "source": [
        "# Hash the sender address\n",
        "sender_hash = calculate_sha1_hash(sender_addr.encode('utf-8'))\n",
        "\n",
        "# Hash the recipient address\n",
        "recipient_hash = calculate_sha1_hash(recipient_addr.encode('utf-8'))\n",
        "\n",
        "# Calculate digital signature\n",
        "digital_signature = calculate_signature_hash(recipient_hash, amount, fee, nonce)\n",
        "\n",
        "# Encode the sender's public key from string to bytes using UTF-8 encoding\n",
        "sender_publickey = sender_publickey.encode('utf-8')\n",
        "\n",
        "# Generate the transaction ID\n",
        "tx_id_bytes = calculate_txid(sender_hash, recipient_hash, sender_publickey, amount, fee, nonce, digital_signature)\n",
        "\n",
        "# Convert the transaction ID from bytes to a hexadecimal string\n",
        "tx_id = tx_id_bytes.hex()\n"
      ],
      "metadata": {
        "id": "klrkDsZAvJdp"
      },
      "execution_count": 86,
      "outputs": []
    },
    {
      "cell_type": "markdown",
      "source": [
        "## Step 5: Output the Transaction ID\n"
      ],
      "metadata": {
        "id": "ZtH4959n_WH7"
      }
    },
    {
      "cell_type": "code",
      "source": [
        "print(\"The calculated transaction ID is:\", tx_id)\n"
      ],
      "metadata": {
        "colab": {
          "base_uri": "https://localhost:8080/"
        },
        "id": "Odwow2o1_XxZ",
        "outputId": "8ca7928d-28c4-4d96-bf27-7d1308e1caa9"
      },
      "execution_count": 87,
      "outputs": [
        {
          "output_type": "stream",
          "name": "stdout",
          "text": [
            "The calculated transaction ID is: fe1f2d9e1651a97e0867ff8f38a52b56163a8c20e936d0f9fcbe29d01e7b1dcb\n"
          ]
        }
      ]
    },
    {
      "cell_type": "markdown",
      "source": [
        "# Goal No.2\n",
        "\n",
        "Verify the following transactions:\n",
        "- Check the sender’s address,\n",
        "- Check digital signature\n",
        "- Check transaction ID"
      ],
      "metadata": {
        "id": "OyxcedZ7MHAK"
      }
    },
    {
      "cell_type": "markdown",
      "source": [
        "## Transaction No.1"
      ],
      "metadata": {
        "id": "NHTOLgMZMQ33"
      }
    },
    {
      "cell_type": "code",
      "source": [
        "sender_addr      = \"3e6cfd7644cc96050c506d5246ea831998a98412\"\n",
        "recipient_addr   = \"263b26367061e7c505b520a192c5c3d079f04808\"\n",
        "sender_publickey = \"3056301006072a8648ce3d020106052b8104000a03420004b7348c4c2c 97fc8d0e1645fa868d32ca4de03f0772cb76bec66d535d977177896115445298b10cd378dd66afc6bff24a7827083251dd210303d0699f327a7134\"\n",
        "amount = 5\n",
        "fee    = 1\n",
        "nonce  = 1\n",
        "digital_signature = \"39d22d5f4c0b28e15428c1a6c55818ade226a9f15968d3b9ef3d15253770f35e\"\n",
        "transaction_id    = \"24639171a1a6fe688b410764c02d6f1a103fb5a16690ceef959e7647da8deb3d\"\n"
      ],
      "metadata": {
        "id": "_8q5vRQVMXmd"
      },
      "execution_count": 88,
      "outputs": []
    },
    {
      "cell_type": "markdown",
      "source": [
        "### Verify Sender's Address"
      ],
      "metadata": {
        "id": "6PbfU8GiVCzW"
      }
    },
    {
      "cell_type": "code",
      "source": [
        "# Check sender's address\n",
        "sender_hash    = calculate_sha1_hash(sender_addr.encode('utf-8'))\n",
        "recipient_hash = calculate_sha1_hash(recipient_addr.encode('utf-8'))\n",
        "\n",
        "# Convert the public key and digital signature to bytes\n",
        "sender_publickey_bytes  = bytes.fromhex(sender_publickey)\n",
        "digital_signature_bytes = bytes.fromhex(digital_signature)\n",
        "\n",
        "# Generate the transaction ID\n",
        "tx_id_bytes = calculate_txid(sender_hash, recipient_hash, sender_publickey_bytes, amount, fee, nonce, digital_signature_bytes)\n",
        "\n",
        "# Convert the transaction ID from bytes to a hexadecimal string\n",
        "tx_id = tx_id_bytes.hex()\n",
        "\n",
        "# Compare the calculated transaction ID with the given transaction ID\n",
        "if tx_id == transaction_id:\n",
        "    print(\"\\n-> The sender's address is verified\")\n",
        "else:\n",
        "    print(\"\\n-> The sender's address does not match the transaction details\")\n"
      ],
      "metadata": {
        "colab": {
          "base_uri": "https://localhost:8080/"
        },
        "id": "aCEe07uZs1zB",
        "outputId": "d2396fe4-26a6-4904-f465-67804129a1a5"
      },
      "execution_count": 89,
      "outputs": [
        {
          "output_type": "stream",
          "name": "stdout",
          "text": [
            "\n",
            "-> The sender's address does not match the transaction details\n"
          ]
        }
      ]
    },
    {
      "cell_type": "markdown",
      "source": [
        "### Verify Digital Signature"
      ],
      "metadata": {
        "id": "OKRxK3tCuUox"
      }
    },
    {
      "cell_type": "code",
      "source": [
        "# Declare function to load a public key from a hexadecimal string\n",
        "def load_public_key(hex_public_key):\n",
        "    public_key_bytes = bytes.fromhex(hex_public_key)\n",
        "    public_key = serialization.load_der_public_key(public_key_bytes)\n",
        "    return public_key\n",
        "\n",
        "# Declare function to verify the digital signature\n",
        "def verify_signature(public_key, data, signature):\n",
        "    try:\n",
        "        public_key.verify(signature, data, ec.ECDSA(hashes.SHA256()))\n",
        "        return True\n",
        "    except InvalidSignature:\n",
        "        return False\n",
        "\n",
        "# Assuming we have the sender's public key, transaction data, and the signature\n",
        "sender_publickey_hex  = sender_publickey    # The provided public key in hex format\n",
        "digital_signature_hex = digital_signature  # The digital signature in hex format\n",
        "\n",
        "# Convert digital signature from hex to bytes\n",
        "digital_signature_bytes = bytes.fromhex(digital_signature_hex)\n",
        "\n",
        "# Prepare the data that was signed\n",
        "data_to_verify = recipient_hash + amount.to_bytes(8, byteorder='little', signed=False) + fee.to_bytes(8, byteorder='little', signed=False) + nonce.to_bytes(8, byteorder='little', signed=False)\n",
        "\n",
        "# Load the public key\n",
        "public_key = load_public_key(sender_publickey_hex)\n",
        "\n",
        "# Verify the signature\n",
        "if verify_signature(public_key, data_to_verify, digital_signature_bytes):\n",
        "    print(\"\\n-> The digital signature is valid.\")\n",
        "else:\n",
        "    print(\"\\n-> The digital signature is invalid.\")\n"
      ],
      "metadata": {
        "colab": {
          "base_uri": "https://localhost:8080/"
        },
        "id": "IpNHS3DEubl9",
        "outputId": "bbf317ea-ef61-410e-d93a-121663203b6b"
      },
      "execution_count": 90,
      "outputs": [
        {
          "output_type": "stream",
          "name": "stdout",
          "text": [
            "\n",
            "-> The digital signature is invalid.\n"
          ]
        }
      ]
    },
    {
      "cell_type": "markdown",
      "source": [
        "### Verify Transaction ID"
      ],
      "metadata": {
        "id": "pIKTcwhZx3VU"
      }
    },
    {
      "cell_type": "code",
      "source": [
        "# Convert hexadecimal values to bytes\n",
        "sender_publickey_bytes  = bytes.fromhex(sender_publickey)\n",
        "digital_signature_bytes = bytes.fromhex(digital_signature)\n",
        "\n",
        "# Calculate hashes\n",
        "sender_hash    = calculate_sha1_hash(sender_addr.encode('utf-8'))\n",
        "recipient_hash = calculate_sha1_hash(recipient_addr.encode('utf-8'))\n",
        "\n",
        "# Calculate the transaction ID\n",
        "tx_id_bytes = calculate_txid(sender_hash, recipient_hash, sender_publickey_bytes, amount, fee, nonce, digital_signature_bytes)\n",
        "\n",
        "# Convert the transaction ID from bytes to a hexadecimal string\n",
        "calculated_tx_id = tx_id_bytes.hex()\n",
        "\n",
        "# Compare the calculated transaction ID with the given transaction ID\n",
        "if calculated_tx_id == transaction_id:\n",
        "    print(\"\\nThe transaction ID is correct.\")\n",
        "else:\n",
        "    print(f\"\\nThe transaction ID is incorrect. \\n\\nCalculated: {calculated_tx_id} \\nGiven.....: {transaction_id}\")\n"
      ],
      "metadata": {
        "colab": {
          "base_uri": "https://localhost:8080/"
        },
        "id": "x4n40GQex-GL",
        "outputId": "34bc7e31-a46d-44a8-ed07-77541fc2c060"
      },
      "execution_count": 91,
      "outputs": [
        {
          "output_type": "stream",
          "name": "stdout",
          "text": [
            "\n",
            "The transaction ID is incorrect. \n",
            "\n",
            "Calculated: cf9d68a2181a4aff3e2659624b575505e613570576ea20e9d8cfaac0abd9be5f \n",
            "Given.....: 24639171a1a6fe688b410764c02d6f1a103fb5a16690ceef959e7647da8deb3d\n"
          ]
        }
      ]
    }
  ]
}