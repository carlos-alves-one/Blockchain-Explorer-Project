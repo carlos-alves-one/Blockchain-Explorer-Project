{
  "nbformat": 4,
  "nbformat_minor": 0,
  "metadata": {
    "colab": {
      "provenance": [],
      "toc_visible": true,
      "authorship_tag": "ABX9TyNjN4eywTDpOhADemusCRDA",
      "include_colab_link": true
    },
    "kernelspec": {
      "name": "python3",
      "display_name": "Python 3"
    },
    "language_info": {
      "name": "python"
    }
  },
  "cells": [
    {
      "cell_type": "markdown",
      "metadata": {
        "id": "view-in-github",
        "colab_type": "text"
      },
      "source": [
        "<a href=\"https://colab.research.google.com/github/carlos-alves-one/-BlockChain-Explorer-Project/blob/main/blockchain_explorer.ipynb\" target=\"_parent\"><img src=\"https://colab.research.google.com/assets/colab-badge.svg\" alt=\"Open In Colab\"/></a>"
      ]
    },
    {
      "cell_type": "markdown",
      "source": [
        "### Goldsmiths University of London\n",
        "### MSc. Data Science and Artificial Intelligence\n",
        "### Module: Blockchain Programming\n",
        "### Author: Carlos Manuel De Oliveira Alves\n",
        "### Student: cdeol003\n",
        "### BlockChain Explorer Project"
      ],
      "metadata": {
        "id": "HtkLpjegulLs"
      }
    },
    {
      "cell_type": "markdown",
      "source": [
        "# Goal No.1\n",
        "\n",
        "Calculate the transaction ID"
      ],
      "metadata": {
        "id": "f2lhzshjzLzs"
      }
    },
    {
      "cell_type": "markdown",
      "source": [
        "## Step 1: Setup\n",
        "Explain the setup process, including importing necessary libraries (e.g., hashlib for cryptographic hashing) and any initial configurations required."
      ],
      "metadata": {
        "id": "907A926vxtU6"
      }
    },
    {
      "cell_type": "code",
      "source": [
        "import hashlib\n"
      ],
      "metadata": {
        "id": "f6qEFwVVwlkm"
      },
      "execution_count": null,
      "outputs": []
    },
    {
      "cell_type": "markdown",
      "source": [
        "## Step 2: Define Transaction Details\n",
        "Outline how to define the transaction details, such as sender and recipient addresses, the amount, the fee, the nonce, and the digital signature. Mention that these details form the basis of the transaction and are crucial for its unique identification."
      ],
      "metadata": {
        "id": "I-luIdxzyIT0"
      }
    },
    {
      "cell_type": "code",
      "source": [
        "sender_addr      = \"b66eeaa8059bd4d50c760beb93c2eb086ad91853\"\n",
        "recipient_addr   = \"b8e6687270bade89f03178d0195dbde30be1287c\"\n",
        "sender_publickey = \"3056301006072a8648ce3d020106052b8104000a03420004abb6abed08 a9304fedaa394bd578fde6e28a3721ef25da5063fd3ddf\"\n",
        "amount = 5\n",
        "fee    = 1\n",
        "nonce  = 1\n",
        "digital_signature = \"39d22d5f4c0b28e15428c1a6c55818ade226a9f15968d3b9ef3d1525377 0f35e\"\n"
      ],
      "metadata": {
        "id": "eDzW9GdhyJfo"
      },
      "execution_count": null,
      "outputs": []
    }
  ]
}