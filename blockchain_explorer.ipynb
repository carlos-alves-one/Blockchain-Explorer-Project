{
  "nbformat": 4,
  "nbformat_minor": 0,
  "metadata": {
    "colab": {
      "provenance": [],
      "toc_visible": true,
      "authorship_tag": "ABX9TyMGFI3FXx+V45jni8zn4aVx",
      "include_colab_link": true
    },
    "kernelspec": {
      "name": "python3",
      "display_name": "Python 3"
    },
    "language_info": {
      "name": "python"
    }
  },
  "cells": [
    {
      "cell_type": "markdown",
      "metadata": {
        "id": "view-in-github",
        "colab_type": "text"
      },
      "source": [
        "<a href=\"https://colab.research.google.com/github/carlos-alves-one/-BlockChain-Explorer-Project/blob/main/blockchain_explorer.ipynb\" target=\"_parent\"><img src=\"https://colab.research.google.com/assets/colab-badge.svg\" alt=\"Open In Colab\"/></a>"
      ]
    },
    {
      "cell_type": "markdown",
      "source": [
        "### Goldsmiths University of London\n",
        "### MSc. Data Science and Artificial Intelligence\n",
        "### Module: Blockchain Programming\n",
        "### Author: Carlos Manuel De Oliveira Alves\n",
        "### Student: cdeol003\n",
        "### BlockChain Explorer Project"
      ],
      "metadata": {
        "id": "HtkLpjegulLs"
      }
    },
    {
      "cell_type": "markdown",
      "source": [
        "# Step 1: Setup\n",
        "Explain the setup process, including importing necessary libraries (e.g., hashlib for cryptographic hashing) and any initial configurations required."
      ],
      "metadata": {
        "id": "907A926vxtU6"
      }
    },
    {
      "cell_type": "code",
      "source": [
        "import hashlib\n"
      ],
      "metadata": {
        "id": "f6qEFwVVwlkm"
      },
      "execution_count": null,
      "outputs": []
    }
  ]
}