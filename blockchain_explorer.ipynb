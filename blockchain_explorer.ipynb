{
  "nbformat": 4,
  "nbformat_minor": 0,
  "metadata": {
    "colab": {
      "provenance": [],
      "toc_visible": true,
      "authorship_tag": "ABX9TyNzCAMZZ89knbMAOxMYsdMw",
      "include_colab_link": true
    },
    "kernelspec": {
      "name": "python3",
      "display_name": "Python 3"
    },
    "language_info": {
      "name": "python"
    }
  },
  "cells": [
    {
      "cell_type": "markdown",
      "metadata": {
        "id": "view-in-github",
        "colab_type": "text"
      },
      "source": [
        "<a href=\"https://colab.research.google.com/github/carlos-alves-one/-BlockChain-Explorer-Project/blob/main/blockchain_explorer.ipynb\" target=\"_parent\"><img src=\"https://colab.research.google.com/assets/colab-badge.svg\" alt=\"Open In Colab\"/></a>"
      ]
    },
    {
      "cell_type": "markdown",
      "source": [
        "### Goldsmiths University of London\n",
        "### MSc. Data Science and Artificial Intelligence\n",
        "### Module: Blockchain Programming\n",
        "### Author: Carlos Manuel De Oliveira Alves\n",
        "### Student: cdeol003\n",
        "### BlockChain Explorer Project"
      ],
      "metadata": {
        "id": "HtkLpjegulLs"
      }
    },
    {
      "cell_type": "markdown",
      "source": [
        "# Goal No.1\n",
        "\n",
        "Calculate the transaction ID"
      ],
      "metadata": {
        "id": "f2lhzshjzLzs"
      }
    },
    {
      "cell_type": "markdown",
      "source": [
        "## Step 1: Setup\n",
        "Explain the setup process, including importing necessary libraries (e.g., hashlib for cryptographic hashing) and any initial configurations required."
      ],
      "metadata": {
        "id": "907A926vxtU6"
      }
    },
    {
      "cell_type": "code",
      "source": [
        "import hashlib\n"
      ],
      "metadata": {
        "id": "f6qEFwVVwlkm"
      },
      "execution_count": 2,
      "outputs": []
    },
    {
      "cell_type": "markdown",
      "source": [
        "## Step 2: Define Transaction Details\n",
        "Outline how to define the transaction details, such as sender and recipient addresses, the amount, the fee, the nonce, and the digital signature. Mention that these details form the basis of the transaction and are crucial for its unique identification."
      ],
      "metadata": {
        "id": "I-luIdxzyIT0"
      }
    },
    {
      "cell_type": "code",
      "source": [
        "sender_addr      = \"b66eeaa8059bd4d50c760beb93c2eb086ad91853\"\n",
        "recipient_addr   = \"b8e6687270bade89f03178d0195dbde30be1287c\"\n",
        "sender_publickey = \"3056301006072a8648ce3d020106052b8104000a03420004abb6abed08a9304fedaa394bd578fde6e28a3721ef25da5063fd3ddf\"\n",
        "amount = 5\n",
        "fee    = 1\n",
        "nonce  = 1\n",
        "digital_signature = \"39d22d5f4c0b28e15428c1a6c55818ade226a9f15968d3b9ef3d15253770f35e\"\n"
      ],
      "metadata": {
        "id": "eDzW9GdhyJfo"
      },
      "execution_count": 3,
      "outputs": []
    },
    {
      "cell_type": "markdown",
      "source": [
        "## Step 3: Concatenate Transaction Details\n",
        "\n",
        "Describe how to concatenate all transaction details into a single string. This step is critical as it prepares the data for hashing."
      ],
      "metadata": {
        "id": "LYAVL-Um-Q6N"
      }
    },
    {
      "cell_type": "code",
      "source": [
        "transaction_details = f\"{sender_addr}{recipient_addr}{amount}{fee}{nonce}{digital_signature}\"\n"
      ],
      "metadata": {
        "id": "kMt7rfss-Va1"
      },
      "execution_count": 4,
      "outputs": []
    },
    {
      "cell_type": "markdown",
      "source": [
        "## Step 4: Hash the Details\n",
        "\n",
        "Discuss applying the SHA-256 hash function to the concatenated string to generate the transaction ID. Emphasize the importance of using a cryptographic hash function for security and uniqueness."
      ],
      "metadata": {
        "id": "n2mQ9XKF-4Lf"
      }
    },
    {
      "cell_type": "code",
      "source": [
        "transaction_id = hashlib.sha256(transaction_details.encode()).hexdigest()\n"
      ],
      "metadata": {
        "id": "LOdVo_4z-5W1"
      },
      "execution_count": 5,
      "outputs": []
    },
    {
      "cell_type": "markdown",
      "source": [
        "## Step 5: Output the Transaction ID\n",
        "\n",
        "Finally, explain how to output the transaction ID, providing a clear conclusion to the process."
      ],
      "metadata": {
        "id": "ZtH4959n_WH7"
      }
    },
    {
      "cell_type": "code",
      "source": [
        "print(\"The calculated transaction ID is:\", transaction_id)\n"
      ],
      "metadata": {
        "colab": {
          "base_uri": "https://localhost:8080/"
        },
        "id": "Odwow2o1_XxZ",
        "outputId": "18657c44-fb0e-459e-fb3a-d0aca8112da7"
      },
      "execution_count": 6,
      "outputs": [
        {
          "output_type": "stream",
          "name": "stdout",
          "text": [
            "The calculated transaction ID is: 78209e0c320e77cdab51e4e1758b28b5b46f12340399f26e4e32356b47e2c067\n"
          ]
        }
      ]
    },
    {
      "cell_type": "markdown",
      "source": [
        "# Goal No.2\n",
        "\n",
        "Verify the following transactions:\n",
        "- Check the sender’s address,\n",
        "- Check digital signature\n",
        "- Check transaction ID"
      ],
      "metadata": {
        "id": "OyxcedZ7MHAK"
      }
    },
    {
      "cell_type": "markdown",
      "source": [
        "## Transaction No.1"
      ],
      "metadata": {
        "id": "NHTOLgMZMQ33"
      }
    },
    {
      "cell_type": "code",
      "source": [
        "sender_addr      = \"3e6cfd7644cc96050c506d5246ea831998a98412\"\n",
        "recipient_addr   = \"263b26367061e7c505b520a192c5c3d079f04808\"\n",
        "sender_publickey = \"3056301006072a8648ce3d020106052b8104000a03420004b7348c4c2c 97fc8d0e1645fa868d32ca4de03f0772cb76bec66d535d977177896115445298b10cd378dd66afc6bff24a7827083251dd210303d0699f327a7134\"\n",
        "amount = 5\n",
        "fee    = 1\n",
        "nonce  = 1\n",
        "digital_signature = \"39d22d5f4c0b28e15428c1a6c55818ade226a9f15968d3b9ef3d15253770f35e\"\n"
      ],
      "metadata": {
        "id": "_8q5vRQVMXmd"
      },
      "execution_count": null,
      "outputs": []
    },
    {
      "cell_type": "markdown",
      "source": [
        "### Verify Sender's Address"
      ],
      "metadata": {
        "id": "6PbfU8GiVCzW"
      }
    },
    {
      "cell_type": "markdown",
      "source": [
        "#### Calculate SHA1 Hash of the Public Key"
      ],
      "metadata": {
        "id": "FMnhLl2MWnhD"
      }
    },
    {
      "cell_type": "code",
      "source": [
        "# Import the 'hashes' module from the 'cryptography.hazmat.primitives' package\n",
        "from cryptography.hazmat.primitives import hashes\n",
        "\n",
        "# Define a function to calculate SHA1 hash of a given public key\n",
        "def calculate_sha1_hash(public_key):\n",
        "\n",
        "    # Initialize a SHA1 hash object\n",
        "    digest = hashes.Hash(hashes.SHA1())\n",
        "\n",
        "    # Update the hash object with the public key data\n",
        "    digest.update(public_key)\n",
        "\n",
        "    # Finalize the hash calculation and return the hash value\n",
        "    return digest.finalize()\n"
      ],
      "metadata": {
        "id": "0N7KKEcZVDyN"
      },
      "execution_count": null,
      "outputs": []
    }
  ]
}