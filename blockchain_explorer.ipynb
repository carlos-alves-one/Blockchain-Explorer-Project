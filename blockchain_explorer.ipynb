{
  "nbformat": 4,
  "nbformat_minor": 0,
  "metadata": {
    "colab": {
      "provenance": [],
      "toc_visible": true,
      "authorship_tag": "ABX9TyPUvHhJpSpZcW8f73oU+etS",
      "include_colab_link": true
    },
    "kernelspec": {
      "name": "python3",
      "display_name": "Python 3"
    },
    "language_info": {
      "name": "python"
    }
  },
  "cells": [
    {
      "cell_type": "markdown",
      "metadata": {
        "id": "view-in-github",
        "colab_type": "text"
      },
      "source": [
        "<a href=\"https://colab.research.google.com/github/carlos-alves-one/-BlockChain-Explorer-Project/blob/main/blockchain_explorer.ipynb\" target=\"_parent\"><img src=\"https://colab.research.google.com/assets/colab-badge.svg\" alt=\"Open In Colab\"/></a>"
      ]
    },
    {
      "cell_type": "markdown",
      "source": [
        "### Goldsmiths University of London\n",
        "### MSc. Data Science and Artificial Intelligence\n",
        "### Module: Blockchain Programming\n",
        "### Author: Carlos Manuel De Oliveira Alves\n",
        "### Student: cdeol003\n",
        "### BlockChain Explorer Project"
      ],
      "metadata": {
        "id": "HtkLpjegulLs"
      }
    },
    {
      "cell_type": "markdown",
      "source": [
        "# Goal No.1\n",
        "\n",
        "Calculate the transaction ID"
      ],
      "metadata": {
        "id": "f2lhzshjzLzs"
      }
    },
    {
      "cell_type": "markdown",
      "source": [
        "## Step 1: Setup\n",
        "\n",
        "Explain the setup process, including importing necessary libraries (e.g., hashlib for cryptographic hashing) and any initial configurations for the transaction."
      ],
      "metadata": {
        "id": "907A926vxtU6"
      }
    },
    {
      "cell_type": "code",
      "source": [
        "import hashlib\n"
      ],
      "metadata": {
        "id": "f6qEFwVVwlkm"
      },
      "execution_count": 48,
      "outputs": []
    },
    {
      "cell_type": "markdown",
      "source": [
        "## Step 2: Define Transaction Details\n",
        "Outline how to define the transaction details, such as sender and recipient addresses, the amount, the fee, the nonce, and the digital signature. Mention that these details form the basis of the transaction and are crucial for its unique identification."
      ],
      "metadata": {
        "id": "I-luIdxzyIT0"
      }
    },
    {
      "cell_type": "code",
      "source": [
        "sender_addr      = \"b66eeaa8059bd4d50c760beb93c2eb086ad91853\"\n",
        "recipient_addr   = \"b8e6687270bade89f03178d0195dbde30be1287c\"\n",
        "sender_publickey = \"3056301006072a8648ce3d020106052b8104000a03420004abb6abed08a9304fedaa394bd578fde6e28a3721ef25da5063fd3ddf\"\n",
        "amount = 5\n",
        "fee    = 1\n",
        "nonce  = 1\n",
        "digital_signature = \"39d22d5f4c0b28e15428c1a6c55818ade226a9f15968d3b9ef3d15253770f35e\"\n"
      ],
      "metadata": {
        "id": "eDzW9GdhyJfo"
      },
      "execution_count": 49,
      "outputs": []
    },
    {
      "cell_type": "markdown",
      "source": [
        "## Step 3: Define functions to Hash and calculate the Transaction ID\n"
      ],
      "metadata": {
        "id": "LYAVL-Um-Q6N"
      }
    },
    {
      "cell_type": "code",
      "source": [
        "# SHA1 hash calculation\n",
        "def calculate_sha1_hash(public_key):\n",
        "    digest = hashes.Hash(hashes.SHA1())\n",
        "    digest.update(public_key)\n",
        "    return digest.finalize()\n",
        "\n",
        "# Signature hash calculation\n",
        "def calculate_signature_hash(recipient_hash, amount, fee, nonce):\n",
        "    digest = hashes.Hash(hashes.SHA256())\n",
        "    digest.update(recipient_hash)\n",
        "    digest.update(amount.to_bytes(8, byteorder='little', signed=False))\n",
        "    digest.update(fee.to_bytes(8, byteorder='little', signed=False))\n",
        "    digest.update(nonce.to_bytes(8, byteorder='little', signed=False))\n",
        "    return digest.finalize()\n",
        "\n",
        "# Transaction  ID calculation\n",
        "def calculate_txid(sender_hash, recipient_hash, sender_public_key, amount, fee, nonce, signature):\n",
        "    digest = hashes.Hash(hashes.SHA256())\n",
        "    digest.update(sender_hash)\n",
        "    digest.update(recipient_hash)\n",
        "    digest.update(sender_public_key)\n",
        "    digest.update(amount.to_bytes(8, byteorder='little', signed=False))\n",
        "    digest.update(fee.to_bytes(8, byteorder='little', signed=False))\n",
        "    digest.update(nonce.to_bytes(8, byteorder='little', signed=False))\n",
        "    digest.update(signature)\n",
        "    return digest.finalize()\n"
      ],
      "metadata": {
        "id": "DZRZbRcZkzVL"
      },
      "execution_count": 50,
      "outputs": []
    },
    {
      "cell_type": "markdown",
      "source": [
        "## Step 4: Calculates the Hashes and the Transaction ID\n"
      ],
      "metadata": {
        "id": "c-tyzTY77jkK"
      }
    },
    {
      "cell_type": "code",
      "source": [
        "# Hash the sender address\n",
        "sender_hash = calculate_sha1_hash(sender_addr.encode('utf-8'))\n",
        "\n",
        "# Hash the recipient address\n",
        "recipient_hash = calculate_sha1_hash(recipient_addr.encode('utf-8'))\n",
        "\n",
        "# Calculate digital signature\n",
        "digital_signature = calculate_signature_hash(recipient_hash, amount, fee, nonce)\n",
        "\n",
        "# Encode the sender's public key from string to bytes using UTF-8 encoding\n",
        "sender_publickey = sender_publickey.encode('utf-8')\n",
        "\n",
        "# Generate the transaction ID\n",
        "tx_id_bytes = calculate_txid(sender_hash, recipient_hash, sender_publickey, amount, fee, nonce, digital_signature)\n",
        "\n",
        "# Convert the transaction ID from bytes to a hexadecimal string\n",
        "tx_id = tx_id_bytes.hex()\n"
      ],
      "metadata": {
        "id": "klrkDsZAvJdp"
      },
      "execution_count": 51,
      "outputs": []
    },
    {
      "cell_type": "markdown",
      "source": [
        "## Step 5: Output the Transaction ID\n"
      ],
      "metadata": {
        "id": "ZtH4959n_WH7"
      }
    },
    {
      "cell_type": "code",
      "source": [
        "print(\"The calculated transaction ID is:\", tx_id)\n"
      ],
      "metadata": {
        "colab": {
          "base_uri": "https://localhost:8080/"
        },
        "id": "Odwow2o1_XxZ",
        "outputId": "1fd362ec-b929-49b9-e27d-d94625f20804"
      },
      "execution_count": 52,
      "outputs": [
        {
          "output_type": "stream",
          "name": "stdout",
          "text": [
            "The calculated transaction ID is: fe1f2d9e1651a97e0867ff8f38a52b56163a8c20e936d0f9fcbe29d01e7b1dcb\n"
          ]
        }
      ]
    },
    {
      "cell_type": "markdown",
      "source": [
        "# Goal No.2\n",
        "\n",
        "Verify the following transactions:\n",
        "- Check the sender’s address,\n",
        "- Check digital signature\n",
        "- Check transaction ID"
      ],
      "metadata": {
        "id": "OyxcedZ7MHAK"
      }
    },
    {
      "cell_type": "markdown",
      "source": [
        "## Transaction No.1"
      ],
      "metadata": {
        "id": "NHTOLgMZMQ33"
      }
    },
    {
      "cell_type": "code",
      "source": [
        "sender_addr      = \"3e6cfd7644cc96050c506d5246ea831998a98412\"\n",
        "recipient_addr   = \"263b26367061e7c505b520a192c5c3d079f04808\"\n",
        "sender_publickey = \"3056301006072a8648ce3d020106052b8104000a03420004b7348c4c2c 97fc8d0e1645fa868d32ca4de03f0772cb76bec66d535d977177896115445298b10cd378dd66afc6bff24a7827083251dd210303d0699f327a7134\"\n",
        "amount = 5\n",
        "fee    = 1\n",
        "nonce  = 1\n",
        "digital_signature = \"39d22d5f4c0b28e15428c1a6c55818ade226a9f15968d3b9ef3d15253770f35e\"\n",
        "transaction_id = \"24639171a1a6fe688b410764c02d6f1a103fb5a16690ceef959e7647da8deb3d\"\n"
      ],
      "metadata": {
        "id": "_8q5vRQVMXmd"
      },
      "execution_count": 53,
      "outputs": []
    },
    {
      "cell_type": "markdown",
      "source": [
        "### Verify Sender's Address"
      ],
      "metadata": {
        "id": "6PbfU8GiVCzW"
      }
    },
    {
      "cell_type": "markdown",
      "source": [
        "#### Calculate SHA1 Hash of the Public Key"
      ],
      "metadata": {
        "id": "FMnhLl2MWnhD"
      }
    },
    {
      "cell_type": "code",
      "source": [
        "# Import the 'hashes' module from the 'cryptography.hazmat.primitives' package\n",
        "from cryptography.hazmat.primitives import hashes\n",
        "\n",
        "# Define a function to calculate SHA1 hash of a given public key\n",
        "def calculate_sha1_hash(public_key):\n",
        "\n",
        "    # Ensure public_key is in bytes\n",
        "    if isinstance(public_key, str):\n",
        "\n",
        "        # Encode string to bytes using UTF-8 encoding\n",
        "        public_key = public_key.encode('utf-8')\n",
        "\n",
        "    # Initialize a SHA1 hash object\n",
        "    digest = hashes.Hash(hashes.SHA1())\n",
        "\n",
        "    # Update the hash object with the public key data\n",
        "    digest.update(public_key)\n",
        "\n",
        "    # Finalize the hash calculation and return the hash value\n",
        "    return digest.finalize()\n"
      ],
      "metadata": {
        "id": "0N7KKEcZVDyN"
      },
      "execution_count": 54,
      "outputs": []
    },
    {
      "cell_type": "markdown",
      "source": [
        "#### Compare the Calculated Hash with the Known Address\n",
        "\n",
        "This step compares the hash calculated from the sender's public key with a known address."
      ],
      "metadata": {
        "id": "bwxuKwf_Y18T"
      }
    },
    {
      "cell_type": "code",
      "source": [
        "# Define a function to compare two addresses\n",
        "def compare_addresses(calculated_hash, known_address):\n",
        "\n",
        "    # Ensure both arguments are in the same format (bytes)\n",
        "\n",
        "    # Check if the known address is a string\n",
        "    if isinstance(known_address, str):\n",
        "\n",
        "        # Encode the known address string to bytes using UTF-8 encoding\n",
        "        known_address = known_address.encode('utf-8')\n",
        "\n",
        "\n",
        "    # Compare the calculated hash with the known address and return the result\n",
        "    return calculated_hash == known_address\n",
        "\n",
        "# Call the compare_addresses function with the SHA1 hash of sender_publickey and recipient_addr\n",
        "compare_addresses(calculate_sha1_hash(sender_publickey), recipient_addr)\n"
      ],
      "metadata": {
        "colab": {
          "base_uri": "https://localhost:8080/"
        },
        "id": "Vk19118FY3OK",
        "outputId": "8d6f9e18-3af9-439b-f156-4ba6aa389a11"
      },
      "execution_count": 55,
      "outputs": [
        {
          "output_type": "execute_result",
          "data": {
            "text/plain": [
              "False"
            ]
          },
          "metadata": {},
          "execution_count": 55
        }
      ]
    },
    {
      "cell_type": "markdown",
      "source": [
        "The verification process returns `false` and indicates that the calculated value (derived from the sender's public key) does not match the provided address value."
      ],
      "metadata": {
        "id": "wB3LLp63eCq4"
      }
    }
  ]
}